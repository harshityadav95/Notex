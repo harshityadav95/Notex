{
 "cells": [
  {
   "cell_type": "markdown",
   "metadata": {},
   "source": [
    "# Python Functions, Files, and Dictionaries"
   ]
  },
  {
   "cell_type": "markdown",
   "metadata": {},
   "source": [
    "# Opening a File"
   ]
  },
  {
   "cell_type": "code",
   "execution_count": null,
   "metadata": {},
   "outputs": [],
   "source": [
    "fileref = open(\"filename.txt\", \"r\")\n",
    "fileref.close()"
   ]
  },
  {
   "cell_type": "markdown",
   "metadata": {},
   "source": [
    "# Reading from a file"
   ]
  },
  {
   "cell_type": "markdown",
   "metadata": {},
   "source": [
    "- file_variable.write(\"Text\") , adds it to the end of the file\n",
    "- file_variable.read(n) , returns the string of 'n' characters or the entire file\n",
    "- file_variable.readline() , returns the string upto the newline \n",
    "- file_variable.readlines() , returns a list of string upto the newline \n"
   ]
  },
  {
   "cell_type": "markdown",
   "metadata": {},
   "source": [
    "# Number of Lines in a Python File"
   ]
  },
  {
   "cell_type": "code",
   "execution_count": null,
   "metadata": {},
   "outputs": [],
   "source": [
    "num_lines = sum(1 for line in open('travel_plans2.txt'))\n",
    "#or\n",
    "num_lines= len(open(\"travel_plans2.txt\").readlines(  ))\n"
   ]
  },
  {
   "cell_type": "markdown",
   "metadata": {},
   "source": [
    "# Using with to Open Files\n",
    "- When the program exits the with block, the context manager handles the common stuff that normally happens at the end, in our case closing a file"
   ]
  },
  {
   "cell_type": "code",
   "execution_count": null,
   "metadata": {},
   "outputs": [],
   "source": [
    "with open('mydata.txt', 'r') as md:\n",
    "    for line in md:\n",
    "        print(line)\n",
    "# continue on with other code"
   ]
  },
  {
   "cell_type": "markdown",
   "metadata": {},
   "source": [
    "# Writing data to a CSV File"
   ]
  },
  {
   "cell_type": "code",
   "execution_count": null,
   "metadata": {},
   "outputs": [],
   "source": [
    "olympians = [(\"John Aalberg\", 31, \"Cross Country Skiing\"),\n",
    "             (\"Minna Maarit Aalto\", 30, \"Sailing\"),\n",
    "             (\"Win Valdemar Aaltonen\", 54, \"Art Competitions\"),\n",
    "             (\"Wakako Abe\", 18, \"Cycling\")]\n",
    "\n",
    "outfile = open(\"reduced_olympics.csv\", \"w\")\n",
    "# output the header row\n",
    "outfile.write('Name,Age,Sport')\n",
    "outfile.write('\\n')\n",
    "# output each of the rows:\n",
    "for olympian in olympians:\n",
    "    row_string = '{},{},{}'.format(olympian[0], olympian[1], olympian[2])\n",
    "    outfile.write(row_string)\n",
    "    outfile.write('\\n')\n",
    "outfile.close()\n"
   ]
  },
  {
   "cell_type": "markdown",
   "metadata": {},
   "source": [
    "# Dictionaries"
   ]
  },
  {
   "cell_type": "code",
   "execution_count": 14,
   "metadata": {},
   "outputs": [
    {
     "name": "stdout",
     "output_type": "stream",
     "text": [
      "{'three': 'tres', 'one': 'uno', 'two': 'dos'}\n"
     ]
    }
   ],
   "source": [
    "# Creating an Empty Dictionary \n",
    "d={}\n",
    "# Creating an Empty List\n",
    "l=[]\n",
    "\n",
    "#Creating a dictionary with some elements\n",
    "eng2sp = {'three': 'tres', 'one': 'uno', 'two': 2}\n",
    "print(eng2sp)"
   ]
  },
  {
   "cell_type": "markdown",
   "metadata": {},
   "source": [
    "# Operations on Dictionary\n",
    "-  Dictionaries are mutable"
   ]
  },
  {
   "cell_type": "code",
   "execution_count": 20,
   "metadata": {},
   "outputs": [
    {
     "name": "stdout",
     "output_type": "stream",
     "text": [
      "{'three': 'tres', 'one': 'uno', 'entry': 0, 'two': 5}\n",
      "4\n"
     ]
    }
   ],
   "source": [
    "# delete\n",
    "eng2sp['two']=0\n",
    "del eng2sp['two']\n",
    "# append\n",
    "eng2sp['two']=3\n",
    "eng2sp['two']=eng2sp['two']+2\n",
    "print(eng2sp)\n",
    "print(len(eng2sp))\n"
   ]
  },
  {
   "cell_type": "code",
   "execution_count": 37,
   "metadata": {},
   "outputs": [
    {
     "name": "stdout",
     "output_type": "stream",
     "text": [
      "three\n",
      "one\n",
      "entry\n",
      "two\n",
      "tres\n",
      "uno\n",
      "0\n",
      "5\n"
     ]
    }
   ],
   "source": [
    "# iterating over elements in the dictionary\n",
    "# Keys are not iterated in the order always\n",
    "for i in eng2sp.keys():\n",
    "    print(i)\n",
    "for i in eng2sp.values():\n",
    "    print(i)"
   ]
  },
  {
   "cell_type": "markdown",
   "metadata": {},
   "source": [
    "# Converting the the dictionary into the List"
   ]
  },
  {
   "cell_type": "code",
   "execution_count": 31,
   "metadata": {},
   "outputs": [
    {
     "name": "stdout",
     "output_type": "stream",
     "text": [
      "['three', 'one', 'entry', 'two']\n",
      "['tres', 'uno', 0, 5]\n"
     ]
    }
   ],
   "source": [
    "# list of all the keys\n",
    "l=list(eng2sp.keys())\n",
    "print(l)\n",
    "# list of all the values\n",
    "l=list(eng2sp.values()) #values , items are same\n",
    "print(l)"
   ]
  },
  {
   "cell_type": "markdown",
   "metadata": {},
   "source": [
    "# The in and not in operators can test if a key is in the dictionary"
   ]
  },
  {
   "cell_type": "code",
   "execution_count": 1,
   "metadata": {},
   "outputs": [
    {
     "name": "stdout",
     "output_type": "stream",
     "text": [
      "312\n"
     ]
    }
   ],
   "source": [
    "inventory = {'apples': 430, 'bananas': 312, 'oranges': 525, 'pears': 217}\n",
    "if 'bananas' in inventory:\n",
    "    print(inventory['bananas'])"
   ]
  },
  {
   "cell_type": "markdown",
   "metadata": {},
   "source": [
    "# The GET() method for Dictionary"
   ]
  },
  {
   "cell_type": "code",
   "execution_count": 2,
   "metadata": {},
   "outputs": [
    {
     "name": "stdout",
     "output_type": "stream",
     "text": [
      "None\n",
      "0\n"
     ]
    }
   ],
   "source": [
    "print(inventory.get(\"cherries\"))\n",
    "print(inventory.get(\"cherries\",0))"
   ]
  },
  {
   "cell_type": "markdown",
   "metadata": {},
   "source": [
    "# Aliasing and Copying\n",
    "- Whenever two variables refer to the same dictionary object, changes to one affect the other"
   ]
  },
  {
   "cell_type": "code",
   "execution_count": 6,
   "metadata": {},
   "outputs": [
    {
     "name": "stdout",
     "output_type": "stream",
     "text": [
      "{'up': 'down', 'right': 'wrong', 'true': 'false'}\n",
      "{'right': 'wrong', 'true': 'false'}\n",
      "{'right': 'wrong', 'true': 'false'}\n"
     ]
    }
   ],
   "source": [
    "opposites = {'up': 'down', 'right': 'wrong', 'true': 'false'}\n",
    "alias = opposites\n",
    "print(alias)\n",
    "del opposites['up']\n",
    "print(alias)\n",
    "acopy=alias.copy()\n",
    "del alias['true']\n",
    "print(acopy)"
   ]
  },
  {
   "cell_type": "markdown",
   "metadata": {},
   "source": [
    "# Creating N-gram count of every character the book"
   ]
  },
  {
   "cell_type": "code",
   "execution_count": 7,
   "metadata": {},
   "outputs": [
    {
     "name": "stdout",
     "output_type": "stream",
     "text": [
      "t: 5 occurrences\n",
      "s: 5 occurrences\n"
     ]
    }
   ],
   "source": [
    "#f = open('scarlet.txt', 'r')\n",
    "#txt = f.read()\n",
    "txt=\"THis is the sample text to feed in the word processor\"\n",
    "# now txt is one long string containing all the characters\n",
    "x = {} # start with an empty dictionary\n",
    "for c in txt:\n",
    "    if c not in x:\n",
    "        # we have not seen this character before, so initialize a counter for it\n",
    "        x[c] = 0\n",
    "\n",
    "    #whether we've seen it before or not, increment its counter\n",
    "    x[c] = x[c] + 1\n",
    "\n",
    "print(\"t: \" + str(x['t']) + \" occurrences\")\n",
    "print(\"s: \" + str(x['s']) + \" occurrences\")"
   ]
  },
  {
   "cell_type": "code",
   "execution_count": 12,
   "metadata": {},
   "outputs": [
    {
     "name": "stdout",
     "output_type": "stream",
     "text": [
      "{'The': 1, 'dog': 1, 'chased': 1, 'the': 3, 'rabbit': 2, 'into': 1, 'forest': 1, 'but': 1, 'was': 1, 'too': 1, 'quick.': 1}\n"
     ]
    }
   ],
   "source": [
    "sentence = \"The dog chased the rabbit into the forest but the rabbit was too quick.\"\n",
    "word=sentence.split()\n",
    "word_counts={}\n",
    "for i in word:\n",
    "    if i in word_counts:\n",
    "        word_counts[i]=word_counts[i]+1\n",
    "    else:\n",
    "        word_counts[i]=1\n",
    "print(word_counts)"
   ]
  },
  {
   "cell_type": "code",
   "execution_count": 18,
   "metadata": {},
   "outputs": [
    {
     "name": "stdout",
     "output_type": "stream",
     "text": [
      "['Beaches', 'are', 'cool', 'places', 'to', 'visit', 'in', 'spring', 'however', 'the', 'Mackinaw', 'Bridge', 'is', 'near.', 'Most', 'people', 'visit', 'Mackinaw', 'later', 'since', 'the', 'island', 'is', 'a', 'cool', 'place', 'to', 'explore.', 'B', 'e', 'a', 'c', 'h', 'e', 's', ' ', 'a', 'r', 'e', ' ', 'c', 'o', 'o', 'l', ' ', 'p', 'l', 'a', 'c', 'e', 's', ' ', 't', 'o', ' ', 'v', 'i', 's', 'i', 't', ' ', 'i', 'n', ' ', 's', 'p', 'r', 'i', 'n', 'g', ' ', 'h', 'o', 'w', 'e', 'v', 'e', 'r', ' ', 't', 'h', 'e', ' ', 'M', 'a', 'c', 'k', 'i', 'n', 'a', 'w', ' ', 'B', 'r', 'i', 'd', 'g', 'e', ' ', 'i', 's', ' ', 'n', 'e', 'a', 'r', '.', ' ', 'M', 'o', 's', 't', ' ', 'p', 'e', 'o', 'p', 'l', 'e', ' ', 'v', 'i', 's', 'i', 't', ' ', 'M', 'a', 'c', 'k', 'i', 'n', 'a', 'w', ' ', 'l', 'a', 't', 'e', 'r', ' ', 's', 'i', 'n', 'c', 'e', ' ', 't', 'h', 'e', ' ', 'i', 's', 'l', 'a', 'n', 'd', ' ', 'i', 's', ' ', 'a', ' ', 'c', 'o', 'o', 'l', ' ', 'p', 'l', 'a', 'c', 'e', ' ', 't', 'o', ' ', 'e', 'x', 'p', 'l', 'o', 'r', 'e', '.']\n",
      "x 2\n"
     ]
    }
   ],
   "source": [
    "placement = \"Beaches are cool places to visit in spring however the Mackinaw Bridge is near. Most people visit Mackinaw later since the island is a cool place to explore.\"\n",
    "#l=placement.split()\n",
    "for i in placement:\n",
    "    l.append(i)\n",
    "print(l)\n",
    "d={}\n",
    "min_value=0\n",
    "for i in l:\n",
    "    for a in i:\n",
    "        if a not in d:\n",
    "            d[a]=1\n",
    "        else:\n",
    "            d[a]=d[a]+1\n",
    "lst=list(d.values())\n",
    "min_value=''\n",
    "m=min(lst)\n",
    "for i in d:\n",
    "    if d[i]==int(m):\n",
    "        min_value=i\n",
    "print(min_value,d[min_value])\n",
    "\n",
    "         "
   ]
  },
  {
   "cell_type": "code",
   "execution_count": 15,
   "metadata": {},
   "outputs": [
    {
     "name": "stdout",
     "output_type": "stream",
     "text": [
      "{'i': 2, 'p': 2, 'h': 2, 'o': 3, 'n': 4, 'e': 2, 'a': 2, 'd': 3, 'r': 1, 's': 1}\n",
      "4\n",
      "n\n"
     ]
    }
   ],
   "source": [
    "product = \"iphone and android phones\"\n",
    "l=product.split()\n",
    "lett_d={}\n",
    "max_value=0\n",
    "for i in l:\n",
    "    for a in i:\n",
    "        if a not in lett_d:\n",
    "            lett_d[a]=1\n",
    "        else:\n",
    "            lett_d[a]=lett_d[a]+1\n",
    "print(lett_d)\n",
    "tmp=list(lett_d.values())\n",
    "tmp=max(tmp)\n",
    "print(tmp)\n",
    "max_value=None\n",
    "for i in lett_d:\n",
    "    if lett_d[i]==tmp:\n",
    "        max_value=i\n",
    "        break\n",
    "print(max_value)\n"
   ]
  },
  {
   "cell_type": "code",
   "execution_count": null,
   "metadata": {},
   "outputs": [],
   "source": []
  }
 ],
 "metadata": {
  "kernelspec": {
   "display_name": "Python 3",
   "language": "python",
   "name": "python3"
  },
  "language_info": {
   "codemirror_mode": {
    "name": "ipython",
    "version": 3
   },
   "file_extension": ".py",
   "mimetype": "text/x-python",
   "name": "python",
   "nbconvert_exporter": "python",
   "pygments_lexer": "ipython3",
   "version": "3.7.6"
  }
 },
 "nbformat": 4,
 "nbformat_minor": 4
}
