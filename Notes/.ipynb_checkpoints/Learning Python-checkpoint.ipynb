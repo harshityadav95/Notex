{
 "cells": [
  {
   "cell_type": "code",
   "execution_count": null,
   "metadata": {},
   "outputs": [],
   "source": [
    "# To Insert Exit the Python shell quit(), use its integrated IDLE3"
   ]
  },
  {
   "cell_type": "code",
   "execution_count": null,
   "metadata": {},
   "outputs": [],
   "source": [
    "#Order of Presedence [High to Low ]\n",
    "# Parentheseis ()\n",
    "# Power **\n",
    "# Mulitplication *\n",
    "# Addition  +\n",
    "# Rest Left to Right\n"
   ]
  },
  {
   "cell_type": "code",
   "execution_count": null,
   "metadata": {},
   "outputs": [],
   "source": [
    "# Predict the output of the following Program \n",
    "x=1+2*3-8/4\n",
    "x"
   ]
  },
  {
   "cell_type": "code",
   "execution_count": null,
   "metadata": {},
   "outputs": [],
   "source": [
    "# Taking the Input from the User\n",
    "x=(int)(input(\"Enter the value of the string \"))\n",
    "x=input(\"Enter the Strinf that is not type casted\")\n"
   ]
  },
  {
   "cell_type": "code",
   "execution_count": null,
   "metadata": {},
   "outputs": [],
   "source": [
    "# Condition statemets in Python  \n",
    "x=3\n",
    "if x>5:\n",
    "    print(x)\n",
    "elif x<4:\n",
    "    print(x)\n",
    "else:\n",
    "    print(x)"
   ]
  },
  {
   "cell_type": "code",
   "execution_count": null,
   "metadata": {},
   "outputs": [],
   "source": [
    "# Try - Catch Block in python is called the try except Block\n",
    "x=3\n",
    "try:\n",
    "    x=x+\"CPU\"\n",
    "except:\n",
    "    print(\"Error\")"
   ]
  },
  {
   "cell_type": "code",
   "execution_count": null,
   "metadata": {},
   "outputs": [],
   "source": [
    "'Ayushi'<'ayushi'\n",
    "0.9999999<True\n",
    "(1,2,3)<(1,2,3,4)\n",
    "(1,2,3)<(1,3,2)\n",
    "()<(0,)\n"
   ]
  },
  {
   "cell_type": "code",
   "execution_count": null,
   "metadata": {},
   "outputs": [],
   "source": [
    "# Functions Using Python ,Python dosent have return type signature in its function\n",
    "#it just return the residual value using return"
   ]
  },
  {
   "cell_type": "code",
   "execution_count": 2,
   "metadata": {},
   "outputs": [
    {
     "name": "stdout",
     "output_type": "stream",
     "text": [
      "Hello World 5\n"
     ]
    }
   ],
   "source": [
    "def fn(a,b):\n",
    "    print(\"Hello World\",a+b)\n",
    "fn(2,3)"
   ]
  },
  {
   "cell_type": "code",
   "execution_count": null,
   "metadata": {},
   "outputs": [],
   "source": [
    "#iterations in Python\n"
   ]
  }
 ],
 "metadata": {
  "kernelspec": {
   "display_name": "Python 3",
   "language": "python",
   "name": "python3"
  },
  "language_info": {
   "codemirror_mode": {
    "name": "ipython",
    "version": 3
   },
   "file_extension": ".py",
   "mimetype": "text/x-python",
   "name": "python",
   "nbconvert_exporter": "python",
   "pygments_lexer": "ipython3",
   "version": "3.7.4"
  }
 },
 "nbformat": 4,
 "nbformat_minor": 2
}
