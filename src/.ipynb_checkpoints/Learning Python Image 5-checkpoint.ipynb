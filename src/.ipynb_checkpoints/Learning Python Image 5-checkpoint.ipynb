{
 "cells": [
  {
   "cell_type": "markdown",
   "metadata": {},
   "source": [
    "# Python Project: pillow, tesseract, opencv"
   ]
  },
  {
   "cell_type": "markdown",
   "metadata": {},
   "source": [
    "## The Python Imaging Library (PIL)\n",
    "The Python Imaging Library, which is known as PIL or PILLOW, is the main library we use in python for dealing with image files. This library is not included with python - it's what's known as a third party library, which means you have to download and install it yourself. In the Coursera system, this has all been done for you. Lets do a little exploring of pillow in the jupyter notebooks."
   ]
  },
  {
   "cell_type": "code",
   "execution_count": null,
   "metadata": {},
   "outputs": [],
   "source": [
    "#import PIL\n",
    "from PIL import Image\n",
    "# fo checking the version of library\n",
    "PIL.__version__\n",
    "#for getting help\n",
    "#help(PIL)\n",
    "# to know modules inside the library\n",
    "#dir(PIL)\n",
    "help(Image.open)\n"
   ]
  },
  {
   "cell_type": "code",
   "execution_count": null,
   "metadata": {},
   "outputs": [],
   "source": [
    "# It looks like Image.open() is a function that loads an image from a file and returns an instance \n",
    "# of the Image class. Lets give it a try. In the read_only directory there is an image I've provided\n",
    "# which is from our Master's of Information program recruitment flyer. Lets try and load that now\n",
    "\n",
    "file=\"readonly/msi_recruitment.gif\"\n",
    "image=Image.open(file)\n",
    "print(image)"
   ]
  },
  {
   "cell_type": "code",
   "execution_count": null,
   "metadata": {},
   "outputs": [],
   "source": [
    "# Ok, we see that this returns us a kind of PIL.GifImagePlugin.GifImageFile. At first this might\n",
    "# seem a bit confusing, since because we were told by the docs that we should be exepcting a\n",
    "# PIL.Image.Image object back. But this is just object inheritance working! In fact, the object\n",
    "# returned is both an Image and a GifImageFile. We can use the python inspect module to see this\n",
    "# as the getmro function will return a list of all of the classes that are being inherited by a\n",
    "# given object. Lets try it.\n",
    "import inspect\n",
    "print(\"The type of the image is \" + str(type(image)))\n",
    "inspect.getmro(type(image))\n",
    "\n",
    "\n",
    "## To display image on the Jupyter notebook\n",
    "from IPython.display import display\n",
    "display(image)"
   ]
  },
  {
   "cell_type": "markdown",
   "metadata": {},
   "source": [
    "## Common Functions in the Python Imaging Library\n",
    "Lets take a look at some of the common tasks we can do in python using the pillow library."
   ]
  },
  {
   "cell_type": "code",
   "execution_count": null,
   "metadata": {},
   "outputs": [],
   "source": [
    "# First, lets import the PIL library and the Image object\n",
    "import PIL\n",
    "from PIL import Image\n",
    "# And lets import the display functionality\n",
    "from IPython.display import display\n",
    "# And finally, lets load the image we were working with last time\n",
    "file=\"readonly/msi_recruitment.gif\"\n",
    "image=Image.open(file)"
   ]
  },
  {
   "cell_type": "code",
   "execution_count": null,
   "metadata": {},
   "outputs": [],
   "source": [
    "# Great, now lets check out a few more methods of the image library. First, we'll look at copy\n",
    "# And if you remember, we can do this using the built in python help() function\n",
    "help(image.copy)"
   ]
  },
  {
   "cell_type": "code",
   "execution_count": null,
   "metadata": {},
   "outputs": [],
   "source": [
    "# The save method has a couple of parameters which are interesting. The first, called fp, is the filename\n",
    "# we want to save the object too. The second, format, is interesting, it allows us to change the type of\n",
    "# the image, but the docs tell us that this should be done automatically by looking at the file extension\n",
    "# as well. Lets give it a try -- this file was originally a GifImageFile, but I bet if we save it with a\n",
    "# .png format and read it in again we'll get a different kind of file\n",
    "image.save(\"msi_recruitment.png\")\n",
    "image=Image.open(\"msi_recruitment.png\")\n",
    "import inspect\n",
    "inspect.getmro(type(image))"
   ]
  },
  {
   "cell_type": "code",
   "execution_count": null,
   "metadata": {},
   "outputs": [],
   "source": [
    "# The PILLOW library also has some nice image filters to add some effects. It does this through the filter()\n",
    "# function. The filter() function takes a Filter object, and those are all stored in the ImageFilter object.\n",
    "# Lets take a look.\n",
    "from PIL import ImageFilter\n",
    "help(ImageFilter)"
   ]
  },
  {
   "cell_type": "code",
   "execution_count": null,
   "metadata": {},
   "outputs": [],
   "source": [
    "image=image.convert('RGB')\n",
    "# this stands for red, green blue mode\n",
    "blurred_image=image.filter(PIL.ImageFilter.BLUR)\n",
    "display(blurred_image)"
   ]
  },
  {
   "cell_type": "code",
   "execution_count": null,
   "metadata": {},
   "outputs": [],
   "source": [
    "# Ok, let me show you one more function in the lecture, which is crop(). This removes portions of the image\n",
    "# except for the bounding box you describe. When you think of images, think of individual dots or pixels\n",
    "# which make up that image being lined up in a grid. You can actually see the number of pixels high the image\n",
    "# is and the width of the image \n",
    "print(\"{}x{}\".format(image.width, image.height))"
   ]
  },
  {
   "cell_type": "code",
   "execution_count": null,
   "metadata": {},
   "outputs": [],
   "source": [
    "# This means that the image is 800 pixels wide (the X axis), and 450 pixels high (the Y axis). If we take a \n",
    "# look at the crop documentation we see that the first parameter to the function is a tuple which is the \n",
    "# left, upper, right, and lower values of the X/Y coordinates\n",
    "help(image.crop)"
   ]
  },
  {
   "cell_type": "code",
   "execution_count": null,
   "metadata": {},
   "outputs": [],
   "source": [
    "# So, if we wanted to get the Michigan logo out of this image, we might start with the left at, say 50 pixels,\n",
    "# and the top at 0 pixels, then we might walk to the right another 190 pixels, and set the lower bound to say\n",
    "# 150 pixels\n",
    "display(image.crop((50,0,190,150)))"
   ]
  },
  {
   "cell_type": "code",
   "execution_count": 11,
   "metadata": {},
   "outputs": [
    {
     "ename": "SyntaxError",
     "evalue": "unexpected EOF while parsing (<ipython-input-11-e10489d71c82>, line 8)",
     "output_type": "error",
     "traceback": [
      "\u001b[0;36m  File \u001b[0;32m\"<ipython-input-11-e10489d71c82>\"\u001b[0;36m, line \u001b[0;32m8\u001b[0m\n\u001b[0;31m    display(image\u001b[0m\n\u001b[0m                 ^\u001b[0m\n\u001b[0;31mSyntaxError\u001b[0m\u001b[0;31m:\u001b[0m unexpected EOF while parsing\n"
     ]
    }
   ],
   "source": [
    "/# Of course crop(), like other functions, only returns a copy of the image, and doesn't change the image itself.\n",
    "# A strategy I like to do is try and draw the bounding box directly on the image, when I'm trying to line things\n",
    "# up. We can draw on images using the ImageDraw object. I'm not going to go into this in detail, but here's a \n",
    "# quick example of how. I might draw the bounding box in this case.\n",
    "from PIL import ImageDraw\n",
    "drawing_object=ImageDraw.Draw(image)\n",
    "drawing_object.rectangle((50,0,190,150), fill = None, outline ='red')\n",
    "display(image)"
   ]
  },
  {
   "cell_type": "markdown",
   "metadata": {},
   "source": [
    "## Additional PILLOW functions\n",
    "Lets take a look at some other functions we might want to use in PILLOW to modify images."
   ]
  },
  {
   "cell_type": "code",
   "execution_count": null,
   "metadata": {},
   "outputs": [],
   "source": [
    "# First, lets import all of the library functions we need\n",
    "import PIL\n",
    "from PIL import Image\n",
    "from IPython.display import display\n",
    "\n",
    "# And lets load the image we were working, and we can just convert it to RGB inline\n",
    "file=\"readonly/msi_recruitment.gif\"\n",
    "image=Image.open(file).convert('RGB')\n",
    "\n",
    "display(image)"
   ]
  },
  {
   "cell_type": "code",
   "execution_count": null,
   "metadata": {},
   "outputs": [],
   "source": [
    "# First up, lets import the ImageEnhance module, which has a nice object called Brightness\n",
    "from PIL import ImageEnhance\n",
    "# Checking the online documentation for this function, it takes a value between 0.0 (a completely black\n",
    "# image) and 1.0 (the original image) to adjust the brightness. All of the classes in the ImageEnhance module\n",
    "# do this the same way, you create an object, in this case Brightness, then you call the enhance function()\n",
    "# on that object with an appropriate parameter.\n",
    "#\n",
    "# Lets write a little loop to generate ten images of different brightness. First we need the Brightness\n",
    "# object with our image\n",
    "enhancer=ImageEnhance.Brightness(image)\n",
    "images=[]\n",
    "for i in range(0, 10):\n",
    "    # We'll divide i by ten to get the decimal value we want, and append it to the images list\n",
    "    # we actually call the brightness routine by calling the enhance() function. Remember, you can dig into\n",
    "    # details of this using the help() function, or by consulting web docs\n",
    "    images.append(enhancer.enhance(i/10))\n",
    "# We can see the result here is a list of ten PIL.Image.Image objects. Jupyter nicely prints out the value\n",
    "# of python objects nested in lists\n",
    "print(images)"
   ]
  },
  {
   "cell_type": "code",
   "execution_count": null,
   "metadata": {},
   "outputs": [],
   "source": [
    "# Ok, that's a nice proof of concept. But it's a little tough to see. Lets instead change this to a three\n",
    "# by three grid of values. First thing we should do is make our canvas, and we'll make it 3 times the\n",
    "# width of our image and 3 times the height of our image - a nine image square\n",
    "contact_sheet=PIL.Image.new(first_image.mode, (first_image.width*3,first_image.height*3))\n",
    "# Now we want to iterate over our images and place them into this grid. Remember that in PIL we manage the\n",
    "# location of where we refer to as an image in the upper right hand corner, so this will be 0,0. Lets use\n",
    "# one variable for the X dimension, and one for the Y dimension.\n",
    "x=0\n",
    "y=0\n",
    "\n",
    "# Now, lets iterate over our images. Except, we don't want to both with the first one, because it is\n",
    "# just solid black. Instead we want to just deal with the images after the first one, and that should\n",
    "# give us nine in total\n",
    "for img in images[1:]:\n",
    "    # Lets paste the current image into the contact sheet\n",
    "    contact_sheet.paste(img, (x, y) )\n",
    "    # Now we update our X position. If it is going to be the width of the image, then we set it to 0\n",
    "    # and update Y as well to point to the next \"line\" of the contact sheet.\n",
    "    if x+first_image.width == contact_sheet.width:\n",
    "        x=0\n",
    "        y=y+first_image.height\n",
    "    else:\n",
    "        x=x+first_image.width\n",
    "\n",
    "# Now lets resize the contact sheet. We'll just make it half the size by dividing it by two. And, because\n",
    "# the resize function needs to take round numbers, we need to convert our divisions from floating point\n",
    "# numbers into integers using the int() function.\n",
    "contact_sheet = contact_sheet.resize((int(contact_sheet.width/2),int(contact_sheet.height/2) ))\n",
    "# Now lets display that composite image\n",
    "display(contact_sheet)"
   ]
  }
 ],
 "metadata": {
  "kernelspec": {
   "display_name": "Python 3",
   "language": "python",
   "name": "python3"
  },
  "language_info": {
   "codemirror_mode": {
    "name": "ipython",
    "version": 3
   },
   "file_extension": ".py",
   "mimetype": "text/x-python",
   "name": "python",
   "nbconvert_exporter": "python",
   "pygments_lexer": "ipython3",
   "version": "3.7.6"
  }
 },
 "nbformat": 4,
 "nbformat_minor": 4
}
