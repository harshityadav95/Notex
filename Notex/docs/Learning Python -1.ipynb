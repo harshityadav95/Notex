{
 "cells": [
  {
   "cell_type": "markdown",
   "metadata": {},
   "source": [
    "# To Insert Exit the Python shell quit(), use its integrated IDLE3\n",
    "\n",
    "Compiler Vs Interpreter\\\n",
    "High level Language vs Low Level language\\\n",
    "![Image of Python interpreter](https://hackernoon.com/hn-images/0*xpjHLIxmK0fOR_4T)\n",
    "![Python Virtual Machine](https://i.imgur.com/PJME67T.png)\n",
    "\n",
    "#### Using the Help in Python3\\\n",
    "s=\" \"\\\n",
    "help(s.spilt)\n",
    "###### without the the () in the function\n",
    "\n",
    "\n"
   ]
  },
  {
   "cell_type": "markdown",
   "metadata": {},
   "source": []
  },
  {
   "cell_type": "markdown",
   "metadata": {},
   "source": [
    "# Order of Presedence [High to Low ]\\\n",
    " Parentheseis ()\\\n",
    " Power **\\\n",
    " Mulitplication *\\\n",
    " Addition  +\\\n",
    " Rest Left to Right\n"
   ]
  },
  {
   "cell_type": "code",
   "execution_count": 20,
   "metadata": {},
   "outputs": [
    {
     "name": "stdout",
     "output_type": "stream",
     "text": [
      "5.0\n",
      "14\n"
     ]
    }
   ],
   "source": [
    "# Predict the output of the following Program \n",
    "x=1+2*3-8/4\n",
    "y=16 - 2 * 5 // 3 + 1\n",
    "z=2 + (3 - 1) * 10 / 5 * (2 + 3)\n",
    "print(x)"
   ]
  },
  {
   "cell_type": "markdown",
   "metadata": {},
   "source": [
    "Explanation :\n",
    "16 - 2 * 5 // 3 + 1\\\n",
    "16 - 10 // 3 + 1\\\n",
    "16 - 3 + 1\\\n",
    "13 + 1\\\n",
    "14\n",
    "\n",
    "Python3 has 33 Keywords\\\n",
    "C++ has 60 Keywords\\\n",
    "C language has 30 Keywords\\\n",
    "C# has 79 keywords\\\n",
    "Java has 51 keywords"
   ]
  },
  {
   "cell_type": "code",
   "execution_count": 1,
   "metadata": {},
   "outputs": [
    {
     "name": "stdout",
     "output_type": "stream",
     "text": [
      "<class 'bool'>\n",
      "<class 'str'>\n"
     ]
    }
   ],
   "source": [
    "# Boolean  \n",
    "print(type(True))\n",
    "print(type(\"True\"))\n"
   ]
  },
  {
   "cell_type": "code",
   "execution_count": 3,
   "metadata": {},
   "outputs": [
    {
     "name": "stdout",
     "output_type": "stream",
     "text": [
      "Enter the value of the string 1\n",
      "Enter the Strinf that is not type casted1\n",
      "Input value of the type, <class 'str'>\n"
     ]
    }
   ],
   "source": [
    "# Taking the Input from the User\n",
    "# str,int,float \n",
    "x=(int)(input(\"Enter the value of the string \"))\n",
    "x=input(\"Enter the Strinf that is not type casted\")\n",
    "#type() function is used to tell the type of the input entered if you want to know what was entererd\n",
    "print(\"Input value of the type,\",type(x))\n"
   ]
  },
  {
   "cell_type": "markdown",
   "metadata": {},
   "source": [
    "Source [Google for Education Python](https://developers.google.com/edu/python/strings)\\\n",
    "Python Uses %d, %s like other languages to give output inside the print line\\\n",
    "Triple quotes ''' are used to contain combination of single and double quotes and can span across multiple lines\\\n",
    "\n",
    "## Usefull Inbuilt Functions\n",
    "\n",
    "-len(variable)  is ised to tell the length of the variable in the integer format\\\n",
    "-square(a,b)\\\n",
    "-sub(a,b)\n"
   ]
  },
  {
   "cell_type": "code",
   "execution_count": 14,
   "metadata": {},
   "outputs": [
    {
     "name": "stdout",
     "output_type": "stream",
     "text": [
      "3 little pigs come out, or I'll huff, and I'll puff, and I'll blow your house down.\n",
      "\"Oh no\", she exclaimed, \"Ben's bike is broken!\"\n"
     ]
    }
   ],
   "source": [
    "# % operator\n",
    "text = \"%d little pigs come out, or I'll %s, and I'll %s, and I'll blow your %s down.\" % (3, 'huff', 'puff', 'house')\n",
    "print(text)\n",
    "print('''\"Oh no\", she exclaimed, \"Ben's bike is broken!\"''')\n"
   ]
  },
  {
   "cell_type": "code",
   "execution_count": 10,
   "metadata": {},
   "outputs": [
    {
     "name": "stdout",
     "output_type": "stream",
     "text": [
      "3\n"
     ]
    }
   ],
   "source": [
    "# Condition statemets in Python  \n",
    "x=3\n",
    "if x>5:\n",
    "    print(x)\n",
    "elif x<4:\n",
    "    print(x)\n",
    "else:\n",
    "    print(x)"
   ]
  },
  {
   "cell_type": "code",
   "execution_count": null,
   "metadata": {},
   "outputs": [],
   "source": [
    "# Try - Catch Block in python is called the try except Block\n",
    "x=3\n",
    "try:\n",
    "    x=x+\"CPU\"\n",
    "except:\n",
    "    print(\"Error\")"
   ]
  },
  {
   "cell_type": "code",
   "execution_count": null,
   "metadata": {},
   "outputs": [],
   "source": [
    "'Ayushi'<'ayushi'\n",
    "0.9999999<True\n",
    "(1,2,3)<(1,2,3,4)\n",
    "(1,2,3)<(1,3,2)\n",
    "()<(0,)\n"
   ]
  },
  {
   "cell_type": "markdown",
   "metadata": {},
   "source": [
    "Functions Using Python ,Python dosent have return type signature in its function\n",
    "it just return the residual value using return"
   ]
  },
  {
   "cell_type": "code",
   "execution_count": 5,
   "metadata": {},
   "outputs": [
    {
     "name": "stdout",
     "output_type": "stream",
     "text": [
      "1\n",
      "1.0\n"
     ]
    }
   ],
   "source": [
    "#Trucated Division  - eats the value after decimal but still show the decimal\n",
    "print(9 // 5)\n",
    "print(9.0 // 5)\n"
   ]
  },
  {
   "cell_type": "code",
   "execution_count": null,
   "metadata": {},
   "outputs": [],
   "source": [
    "def fn(a,b):\n",
    "    print(\"Hello World\",a+b)\n",
    "fn(2,3)"
   ]
  },
  {
   "cell_type": "markdown",
   "metadata": {},
   "source": [
    "#iterations in Python\\\n",
    "#while works same it does in other programming languages\\\n",
    "#Difference between Formal Parameters and actual parameters"
   ]
  },
  {
   "cell_type": "code",
   "execution_count": null,
   "metadata": {},
   "outputs": [],
   "source": [
    "while True:\n",
    "    if true:\n",
    "        break\n",
    "#break us used to break the loop\n",
    "continue "
   ]
  },
  {
   "cell_type": "code",
   "execution_count": null,
   "metadata": {},
   "outputs": [],
   "source": [
    "# it takes the control to the start of the loop  \n",
    "for i in [5,4,3,2,1]:\n",
    "    print(i)"
   ]
  },
  {
   "cell_type": "code",
   "execution_count": null,
   "metadata": {},
   "outputs": [],
   "source": [
    "for i in [\"Harshit\",\"Yadav\", \"Python\"]: #iterating through list\n",
    "    print(i)\n",
    "# none value is absence of value in Python \n",
    "x=None\n",
    "print(x)"
   ]
  },
  {
   "cell_type": "markdown",
   "metadata": {},
   "source": [
    "Skipping the variable in the for loop\n",
    "\n"
   ]
  },
  {
   "cell_type": "code",
   "execution_count": 1,
   "metadata": {},
   "outputs": [
    {
     "name": "stdout",
     "output_type": "stream",
     "text": [
      "This line will execute three timesThis line will execute three times\n",
      "This line will execute three timesThis line will execute three times\n"
     ]
    }
   ],
   "source": [
    "# Both Print 0-4  \n",
    "print(list(range(5)))\n",
    "print(list(range(0,5)))\n",
    "\n",
    "\n",
    "for _ in range(2):\n",
    "    print(\"This line will execute three times\"*2)"
   ]
  },
  {
   "cell_type": "code",
   "execution_count": null,
   "metadata": {},
   "outputs": [],
   "source": [
    "# this will execute character by character of the the string provided\n",
    "for character in \"Cool string\":\n",
    "    print(character)\n",
    "#for running a loop until the desired character or string is entered\n",
    "grocery_item = \"\"\n",
    "while grocery_item != \"done\":\n",
    "    grocery_item = input(\"Please write down an item\")\n",
    "    print(grocery_item)\n",
    "# to print them in s single line\n",
    "print(''.join(l))\n"
   ]
  },
  {
   "cell_type": "code",
   "execution_count": null,
   "metadata": {},
   "outputs": [],
   "source": [
    "#using the random function\n",
    "#The correct code to generate a random number between 1 and 100 (inclusive)\n",
    "import random\n",
    "\n",
    "prob = random.random()\n",
    "prob = random.randrange(1, 101)"
   ]
  },
  {
   "cell_type": "markdown",
   "metadata": {},
   "source": [
    "# Lists ,String , Tuples\n",
    "\n",
    "- String Mutation\n",
    "- Mutable and Immutable\n",
    "- Lists are ordered collection, where each item can be of different type\n",
    "- Tuples is like lists where [] is replaced by () ,and elements are seprated by commas\n",
    "- Tuples is Immutable\n",
    "\n",
    "![String Indexing in Python](https://qph.fs.quoracdn.net/main-qimg-a380b1bc159589df5e0b9842e5b56b6d)\n"
   ]
  },
  {
   "cell_type": "code",
   "execution_count": 1,
   "metadata": {},
   "outputs": [
    {
     "name": "stdout",
     "output_type": "stream",
     "text": [
      "Multiline\n",
      "     String\n",
      "      \n",
      "['hello', 2.0, 5, [10, 20]]\n",
      "<class 'tuple'>\n",
      "[10, 20]\n",
      "[10, 20]\n",
      "[[10, 20], 5, 2.0, 'hello']\n",
      "to\n",
      "3\n"
     ]
    }
   ],
   "source": [
    "# Printing or assigning multiline string\n",
    "s=\"\"\"Multiline\n",
    "     String\n",
    "      \"\"\"\n",
    "print(s)\n",
    "lst=[\"hello\", 2.0, 5, [10, 20]]\n",
    "print(lst)\n",
    "ls=(1,2,3)\n",
    "print(type(ls))\n",
    "\n",
    "#Printing the class character of the  Python String  \n",
    "print(lst[len(lst)-1])\n",
    "#or \n",
    "print(lst[-1])\n",
    "#or Printing it in reverse \n",
    "print(lst[::-1])\n",
    "\n",
    "s = \"python rocks\"\n",
    "print(s[2] + s[-4])\n",
    "\n",
    "# Predict the output  \n",
    "L = [0.34, '6', 'SI106', 'Python', -2]\n",
    "print(len(L[1:-1]))"
   ]
  },
  {
   "cell_type": "markdown",
   "metadata": {},
   "source": [
    "## The Slice Operator\n",
    "#### [starting_index:ending_index]\n",
    "When we take a slice of something, it includes the item at the first index and excludes the item at the second index.\n"
   ]
  },
  {
   "cell_type": "code",
   "execution_count": 16,
   "metadata": {},
   "outputs": [
    {
     "name": "stdout",
     "output_type": "stream",
     "text": [
      "ban\n",
      "ana\n",
      "banana\n"
     ]
    }
   ],
   "source": [
    "fruit = \"banana\"\n",
    "print(fruit[:3])\n",
    "print(fruit[3:])\n",
    "print(fruit[:])"
   ]
  },
  {
   "cell_type": "markdown",
   "metadata": {},
   "source": [
    "# String Count Operator"
   ]
  },
  {
   "cell_type": "code",
   "execution_count": 5,
   "metadata": {},
   "outputs": [
    {
     "name": "stdout",
     "output_type": "stream",
     "text": [
      "5\n",
      "2\n",
      "0\n",
      "3\n",
      "2\n",
      "10\n",
      "2\n"
     ]
    }
   ],
   "source": [
    "a = \"I have had an apple on my desk before!\"\n",
    "print(a.count(\"e\"))\n",
    "print(a.count(\"ha\"))\n",
    "z = ['atoms', 4, 'neutron', 6, 'proton', 4, 'electron', 4, 'electron', 'atoms',[]]\n",
    "print(z.count(\"4\"))\n",
    "print(z.count(4))\n",
    "print(z.index(\"neutron\"))\n",
    "print(z.index([]))\n",
    "print(a.index(\"ha\"))\n"
   ]
  },
  {
   "cell_type": "markdown",
   "metadata": {},
   "source": [
    "# Splitting and Joining Strings"
   ]
  },
  {
   "cell_type": "code",
   "execution_count": 8,
   "metadata": {},
   "outputs": [
    {
     "name": "stdout",
     "output_type": "stream",
     "text": [
      "['The r', 'n in Sp', 'n...']\n"
     ]
    }
   ],
   "source": [
    "# splitting the string into list \n",
    "song = \"The rain in Spain...\"\n",
    "wds = song.split()\n",
    "wds = song.split('ai')\n",
    "print(wds)\n",
    "#joining the String\n"
   ]
  },
  {
   "cell_type": "markdown",
   "metadata": {},
   "source": [
    "# Conditional Statement"
   ]
  },
  {
   "cell_type": "code",
   "execution_count": 7,
   "metadata": {},
   "outputs": [
    {
     "name": "stdout",
     "output_type": "stream",
     "text": [
      "Check\n"
     ]
    }
   ],
   "source": [
    "a=3\n",
    "if a<10:\n",
    "    if a<9:\n",
    "        print(\"Check\")\n",
    "    elif a>0:\n",
    "        print(\"fail\")\n",
    "        \n",
    "else:\n",
    "    print(\"none\")"
   ]
  },
  {
   "cell_type": "markdown",
   "metadata": {},
   "source": [
    "# The in and not in operators"
   ]
  },
  {
   "cell_type": "code",
   "execution_count": 10,
   "metadata": {},
   "outputs": [
    {
     "name": "stdout",
     "output_type": "stream",
     "text": [
      "True\n",
      "True\n",
      "False\n",
      "True\n",
      "True\n",
      "True\n",
      "False\n"
     ]
    }
   ],
   "source": [
    "print('p' in 'apple')\n",
    "print('ap' in 'apple')\n",
    "print('pa' in 'apple')\n",
    "print('x' not in 'apple')\n",
    "print(\"a\" in [\"a\", \"b\", \"c\", \"d\"])\n",
    "print(9 in [3, 2, 9, 10, 9.0])\n",
    "print('wow' not in ['gee wiz', 'gosh golly', 'wow', 'amazing'])\n"
   ]
  },
  {
   "cell_type": "markdown",
   "metadata": {},
   "source": [
    "# Adding and Removing Items from List"
   ]
  },
  {
   "cell_type": "code",
   "execution_count": 6,
   "metadata": {},
   "outputs": [
    {
     "name": "stdout",
     "output_type": "stream",
     "text": [
      "['pear', 'x', 'y', 'orange']\n",
      "['pear', '1', '2', 'y', 'orange']\n"
     ]
    }
   ],
   "source": [
    "fruit = [\"banana\", \"apple\", \"cherry\"]\n",
    "fruit[0] = \"pear\"\n",
    "fruit[-1] = \"orange\"\n",
    "fruit[1:2]= ['x', 'y']\n",
    "print(fruit)\n",
    "#Good one\n",
    "fruit[1:2]=\"12\"\n",
    "print(fruit)"
   ]
  },
  {
   "cell_type": "markdown",
   "metadata": {},
   "source": [
    "# Strings are Immutable\n"
   ]
  },
  {
   "cell_type": "code",
   "execution_count": null,
   "metadata": {},
   "outputs": [],
   "source": [
    "greeting = \"Hello, world!\"l\n",
    "greeting[0] = 'J'            # ERROR!"
   ]
  },
  {
   "cell_type": "markdown",
   "metadata": {},
   "source": [
    "# List Element Deletion"
   ]
  },
  {
   "cell_type": "code",
   "execution_count": 8,
   "metadata": {},
   "outputs": [
    {
     "name": "stdout",
     "output_type": "stream",
     "text": [
      "['a', 'f']\n"
     ]
    }
   ],
   "source": [
    "alist = ['a', 'b', 'c', 'd', 'e', 'f']\n",
    "del alist[2:5]\n",
    "del alist[1]\n",
    "print(alist)"
   ]
  },
  {
   "cell_type": "markdown",
   "metadata": {},
   "source": [
    "# Objects and References"
   ]
  },
  {
   "cell_type": "code",
   "execution_count": 9,
   "metadata": {},
   "outputs": [
    {
     "name": "stdout",
     "output_type": "stream",
     "text": [
      "139843332398384\n",
      "139843332398384\n",
      "True\n"
     ]
    }
   ],
   "source": [
    "a = \"banana\"\n",
    "b = \"banana\"\n",
    "print(id(a)) # element id\n",
    "print(id(b))\n",
    "print(a is b)"
   ]
  },
  {
   "cell_type": "markdown",
   "metadata": {},
   "source": [
    "# Aliasing"
   ]
  },
  {
   "cell_type": "code",
   "execution_count": 10,
   "metadata": {},
   "outputs": [
    {
     "name": "stdout",
     "output_type": "stream",
     "text": [
      "True\n"
     ]
    }
   ],
   "source": [
    "a = [81, 82, 83]\n",
    "b = a\n",
    "print(a is b)"
   ]
  },
  {
   "cell_type": "code",
   "execution_count": 11,
   "metadata": {},
   "outputs": [
    {
     "name": "stdout",
     "output_type": "stream",
     "text": [
      "[4, 2, 8, 6, 5, 4, 2, 8, 6, 5]\n"
     ]
    }
   ],
   "source": [
    "alist = [4,2,8,6,5]\n",
    "blist = alist * 2\n",
    "print(blist)"
   ]
  },
  {
   "cell_type": "markdown",
   "metadata": {},
   "source": [
    "# Mutating Methods\n",
    "\n",
    "count(item) -> Returns the number of occurrences of item"
   ]
  },
  {
   "cell_type": "code",
   "execution_count": 13,
   "metadata": {},
   "outputs": [
    {
     "name": "stdout",
     "output_type": "stream",
     "text": [
      "3\n",
      "2\n"
     ]
    }
   ],
   "source": [
    "mylist = [1,2,3,4,5,6,7]\n",
    "mylist.append(5)\n",
    "mylist.insert(1, 12)\n",
    "print(mylist.index(3))\n",
    "print(mylist.count(5))\n",
    "mylist.reverse()\n",
    "mylist.sort()\n",
    "del mylist[-1] #index value\n",
    "mylist.remove(5) #works with strings and value\n",
    "lastitem = mylist.pop()"
   ]
  },
  {
   "cell_type": "markdown",
   "metadata": {},
   "source": [
    "# Non-mutating Methods on Strings\n",
    "\n",
    "strip ->Returns a string with the leading and trailing whitespace removed\\\n",
    "replace(old, new) -> Replaces all occurrences of old substring with new\n",
    "\n"
   ]
  },
  {
   "cell_type": "code",
   "execution_count": 15,
   "metadata": {},
   "outputs": [
    {
     "name": "stdout",
     "output_type": "stream",
     "text": [
      "HELLO, WORLD \n",
      "***Hello, World***\n"
     ]
    }
   ],
   "source": [
    "ss = \"Hello, World \"\n",
    "print(ss.upper())\n",
    "tt = ss.lower()\n",
    "print(\"***\"+ss.strip()+\"***\")\n",
    "news = ss.replace(\"o\", \"***\")"
   ]
  },
  {
   "cell_type": "markdown",
   "metadata": {},
   "source": [
    "# String Format Method"
   ]
  },
  {
   "cell_type": "code",
   "execution_count": 16,
   "metadata": {},
   "outputs": [
    {
     "name": "stdout",
     "output_type": "stream",
     "text": [
      "Hello Rodney Dangerfield. Your score is -1\n",
      "Hello Marlon Brando. Your score is 1\n",
      "Hello You. Your score is 100\n"
     ]
    }
   ],
   "source": [
    "scores = [(\"Rodney Dangerfield\", -1), (\"Marlon Brando\", 1), (\"You\", 100)]\n",
    "for person in scores:\n",
    "    name = person[0]\n",
    "    score = person[1]\n",
    "    print(\"Hello \" + name + \". Your score is \" + str(score))"
   ]
  },
  {
   "cell_type": "markdown",
   "metadata": {},
   "source": [
    "# String Example-2 **\n"
   ]
  },
  {
   "cell_type": "code",
   "execution_count": 17,
   "metadata": {},
   "outputs": [
    {
     "name": "stdout",
     "output_type": "stream",
     "text": [
      "Enter the original price: $1\n",
      "Enter discount percentage: 1\n",
      "$1.00 discounted by 1.0% is $0.99.\n"
     ]
    }
   ],
   "source": [
    "origPrice = float(input('Enter the original price: $'))\n",
    "discount = float(input('Enter discount percentage: '))\n",
    "newPrice = (1 - discount/100)*origPrice\n",
    "calculation = '${:.2f} discounted by {}% is ${:.2f}.'.format(origPrice, discount, newPrice)\n",
    "print(calculation)"
   ]
  },
  {
   "cell_type": "markdown",
   "metadata": {},
   "source": [
    "# String Example-3"
   ]
  },
  {
   "cell_type": "code",
   "execution_count": 7,
   "metadata": {},
   "outputs": [
    {
     "name": "stdout",
     "output_type": "stream",
     "text": [
      "['Youyou Tu', 'Rainer Weiss', 'Malala Yousafzai', 'Kazuo Ishiguro', 'Alvin E. Roth', 'Alice Munro']\n"
     ]
    }
   ],
   "source": [
    "winners = ['Alice Munro', 'Alvin E. Roth', 'Kazuo Ishiguro', 'Malala Yousafzai', 'Rainer Weiss', 'Youyou Tu']\n",
    "winners.sort()\n",
    "winners.reverse()\n",
    "print(winners)"
   ]
  },
  {
   "cell_type": "markdown",
   "metadata": {},
   "source": [
    "# String Example-4"
   ]
  },
  {
   "cell_type": "code",
   "execution_count": 15,
   "metadata": {},
   "outputs": [
    {
     "name": "stdout",
     "output_type": "stream",
     "text": [
      "[10, 15, 20, 25, 30]\n"
     ]
    }
   ],
   "source": [
    "numbs = [5, 10, 15, 20, 25]\n",
    "\n",
    "for i in range(len(numbs)):\n",
    "    a=numbs[i]\n",
    "    numbs[i]=a+5\n"
   ]
  },
  {
   "cell_type": "markdown",
   "metadata": {},
   "source": [
    "# String Example ****-5"
   ]
  },
  {
   "cell_type": "code",
   "execution_count": 1,
   "metadata": {},
   "outputs": [
    {
     "name": "stdout",
     "output_type": "stream",
     "text": [
      "LLAB\n"
     ]
    }
   ],
   "source": [
    "s = \"ball\"\n",
    "r = \"\"\n",
    "for item in s:\n",
    "   r = item.upper() + r\n",
    "print(r)"
   ]
  },
  {
   "cell_type": "code",
   "execution_count": null,
   "metadata": {},
   "outputs": [],
   "source": []
  }
 ],
 "metadata": {
  "kernelspec": {
   "display_name": "Python 3",
   "language": "python",
   "name": "python3"
  },
  "language_info": {
   "codemirror_mode": {
    "name": "ipython",
    "version": 3
   },
   "file_extension": ".py",
   "mimetype": "text/x-python",
   "name": "python",
   "nbconvert_exporter": "python",
   "pygments_lexer": "ipython3",
   "version": "3.7.6"
  }
 },
 "nbformat": 4,
 "nbformat_minor": 2
}
