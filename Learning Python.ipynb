{
 "cells": [
  {
   "cell_type": "markdown",
   "metadata": {},
   "source": [
    "# To Insert Exit the Python shell quit(), use its integrated IDLE3\n",
    "\n",
    "Compiler Vs Interpreter\\\n",
    "High level Language vs Low Level language\\\n",
    "![Image of Python interpreter](https://hackernoon.com/hn-images/0*xpjHLIxmK0fOR_4T)\n",
    "![Python Virtual Machine](https://i.imgur.com/PJME67T.png)\n",
    "\n",
    "#### Using the Help in Python3\\\n",
    "s=\" \"\\\n",
    "help(s.spilt)\n",
    "###### without the the () in the function\n",
    "\n",
    "\n"
   ]
  },
  {
   "cell_type": "markdown",
   "metadata": {},
   "source": []
  },
  {
   "cell_type": "markdown",
   "metadata": {},
   "source": [
    "#Order of Presedence [High to Low ]\\\n",
    " Parentheseis ()\\\n",
    " Power **\\\n",
    " Mulitplication *\\\n",
    " Addition  +\\\n",
    " Rest Left to Right\n"
   ]
  },
  {
   "cell_type": "code",
   "execution_count": 20,
   "metadata": {},
   "outputs": [
    {
     "name": "stdout",
     "output_type": "stream",
     "text": [
      "5.0\n",
      "14\n"
     ]
    }
   ],
   "source": [
    "# Predict the output of the following Program \n",
    "x=1+2*3-8/4\n",
    "y=16 - 2 * 5 // 3 + 1\n",
    "z=2 + (3 - 1) * 10 / 5 * (2 + 3)\n",
    "print(x)"
   ]
  },
  {
   "cell_type": "markdown",
   "metadata": {},
   "source": [
    "Explanation :\n",
    "16 - 2 * 5 // 3 + 1\\\n",
    "16 - 10 // 3 + 1\\\n",
    "16 - 3 + 1\\\n",
    "13 + 1\\\n",
    "14\n",
    "\n",
    "Python3 has 33 Keywords\\\n",
    "C++ has 60 Keywords\\\n",
    "C language has 30 Keywords\\\n",
    "C# has 79 keywords\\\n",
    "Java has 51 keywords"
   ]
  },
  {
   "cell_type": "code",
   "execution_count": 7,
   "metadata": {},
   "outputs": [
    {
     "name": "stdout",
     "output_type": "stream",
     "text": [
      "Enter the value of the string 3\n",
      "Enter the Strinf that is not type casted12\n",
      "Input value of the type, <class 'str'>\n"
     ]
    }
   ],
   "source": [
    "# Taking the Input from the User\n",
    "# str,int,float \n",
    "x=(int)(input(\"Enter the value of the string \"))\n",
    "x=input(\"Enter the Strinf that is not type casted\")\n",
    "#type() function is used to tell the type of the input entered if you want to know what was entererd\n",
    "print(\"Input value of the type,\",type(x))\n"
   ]
  },
  {
   "cell_type": "markdown",
   "metadata": {},
   "source": [
    "Source [Google for Education Python](https://developers.google.com/edu/python/strings)\\\n",
    "Python Uses %d, %s like other languages to give output inside the print line\\\n",
    "Triple quotes ''' are used to contain combination of single and double quotes and can span across multiple lines\\\n",
    "\n",
    "## Usefull Inbuilt Functions\n",
    "\n",
    "-len(variable)  is ised to tell the length of the variable in the integer format\\\n",
    "-square(a,b)\\\n",
    "-sub(a,b)\n"
   ]
  },
  {
   "cell_type": "code",
   "execution_count": 14,
   "metadata": {},
   "outputs": [
    {
     "name": "stdout",
     "output_type": "stream",
     "text": [
      "3 little pigs come out, or I'll huff, and I'll puff, and I'll blow your house down.\n",
      "\"Oh no\", she exclaimed, \"Ben's bike is broken!\"\n"
     ]
    }
   ],
   "source": [
    "# % operator\n",
    "text = \"%d little pigs come out, or I'll %s, and I'll %s, and I'll blow your %s down.\" % (3, 'huff', 'puff', 'house')\n",
    "print(text)\n",
    "print('''\"Oh no\", she exclaimed, \"Ben's bike is broken!\"''')\n"
   ]
  },
  {
   "cell_type": "code",
   "execution_count": 10,
   "metadata": {},
   "outputs": [
    {
     "name": "stdout",
     "output_type": "stream",
     "text": [
      "3\n"
     ]
    }
   ],
   "source": [
    "# Condition statemets in Python  \n",
    "x=3\n",
    "if x>5:\n",
    "    print(x)\n",
    "elif x<4:\n",
    "    print(x)\n",
    "else:\n",
    "    print(x)"
   ]
  },
  {
   "cell_type": "code",
   "execution_count": null,
   "metadata": {},
   "outputs": [],
   "source": [
    "# Try - Catch Block in python is called the try except Block\n",
    "x=3\n",
    "try:\n",
    "    x=x+\"CPU\"\n",
    "except:\n",
    "    print(\"Error\")"
   ]
  },
  {
   "cell_type": "code",
   "execution_count": null,
   "metadata": {},
   "outputs": [],
   "source": [
    "'Ayushi'<'ayushi'\n",
    "0.9999999<True\n",
    "(1,2,3)<(1,2,3,4)\n",
    "(1,2,3)<(1,3,2)\n",
    "()<(0,)\n"
   ]
  },
  {
   "cell_type": "markdown",
   "metadata": {},
   "source": [
    "Functions Using Python ,Python dosent have return type signature in its function\n",
    "it just return the residual value using return"
   ]
  },
  {
   "cell_type": "code",
   "execution_count": 5,
   "metadata": {},
   "outputs": [
    {
     "name": "stdout",
     "output_type": "stream",
     "text": [
      "1\n",
      "1.0\n"
     ]
    }
   ],
   "source": [
    "#Trucated Division  - eats the value after decimal but still show the decimal\n",
    "print(9 // 5)\n",
    "print(9.0 // 5)\n"
   ]
  },
  {
   "cell_type": "code",
   "execution_count": null,
   "metadata": {},
   "outputs": [],
   "source": [
    "def fn(a,b):\n",
    "    print(\"Hello World\",a+b)\n",
    "fn(2,3)"
   ]
  },
  {
   "cell_type": "markdown",
   "metadata": {},
   "source": [
    "#iterations in Python\\\n",
    "#while works same it does in other programming languages\\\n",
    "#Difference between Formal Parameters and actual parameters"
   ]
  },
  {
   "cell_type": "code",
   "execution_count": null,
   "metadata": {},
   "outputs": [],
   "source": [
    "while True:\n",
    "    if true:\n",
    "        break\n",
    "#break us used to break the loop\n",
    "continue "
   ]
  },
  {
   "cell_type": "code",
   "execution_count": null,
   "metadata": {},
   "outputs": [],
   "source": [
    "# it takes the control to the start of the loop  \n",
    "for i in [5,4,3,2,1]:\n",
    "    print(i)"
   ]
  },
  {
   "cell_type": "code",
   "execution_count": null,
   "metadata": {},
   "outputs": [],
   "source": [
    "for i in [\"Harshit\",\"Yadav\", \"Python\"]: #iterating through list\n",
    "    print(i)\n",
    "# none value is absence of value in Python \n",
    "x=None\n",
    "print(x)"
   ]
  },
  {
   "cell_type": "markdown",
   "metadata": {},
   "source": [
    "Skipping the variable in the for loop"
   ]
  },
  {
   "cell_type": "code",
   "execution_count": 1,
   "metadata": {},
   "outputs": [
    {
     "name": "stdout",
     "output_type": "stream",
     "text": [
      "This line will execute three timesThis line will execute three times\n",
      "This line will execute three timesThis line will execute three times\n"
     ]
    }
   ],
   "source": [
    "for _ in range(2):\n",
    "    print(\"This line will execute three times\"*2)"
   ]
  },
  {
   "cell_type": "code",
   "execution_count": null,
   "metadata": {},
   "outputs": [],
   "source": [
    "# this will execute character by character of the the string provided\n",
    "for character in \"Cool string\":\n",
    "    print(character)\n",
    "#for running a loop until the desired character or string is entered\n",
    "grocery_item = \"\"\n",
    "while grocery_item != \"done\":\n",
    "    grocery_item = input(\"Please write down an item\")\n",
    "    print(grocery_item)\n",
    "# to print them in s single line\n",
    "print(''.join(l))\n"
   ]
  },
  {
   "cell_type": "code",
   "execution_count": null,
   "metadata": {},
   "outputs": [],
   "source": [
    "#using the random function\n",
    "#The correct code to generate a random number between 1 and 100 (inclusive)\n",
    "import random\n",
    "\n",
    "prob = random.random()\n",
    "prob = random.randrange(1, 101)"
   ]
  },
  {
   "cell_type": "markdown",
   "metadata": {},
   "source": [
    "# Lists ,String , Tuples\n",
    "\n",
    "- String Mutation\n",
    "- Mutable and Immutable\n",
    "- Lists are ordered collection, where each item can be of different type\n",
    "- Tuples is like lists where [] is replaced by () ,and elements are seprated by commas\n",
    "- Tuples is Immutable\n",
    "\n"
   ]
  },
  {
   "cell_type": "code",
   "execution_count": 14,
   "metadata": {},
   "outputs": [
    {
     "name": "stdout",
     "output_type": "stream",
     "text": [
      "Multiline\n",
      "     String\n",
      "      \n",
      "['hello', 2.0, 5, [10, 20]]\n",
      "<class 'tuple'>\n",
      "[10, 20]\n",
      "[10, 20]\n",
      "[[10, 20], 5, 2.0, 'hello']\n",
      "to\n",
      "3\n"
     ]
    }
   ],
   "source": [
    "# Printing or assigning multiline string\n",
    "s=\"\"\"Multiline\n",
    "     String\n",
    "      \"\"\"\n",
    "print(s)\n",
    "lst=[\"hello\", 2.0, 5, [10, 20]]\n",
    "print(lst)\n",
    "ls=(1,2,3)\n",
    "print(type(ls))\n",
    "\n",
    "#Printing the class character of the  Python String  \n",
    "print(lst[len(lst)-1])\n",
    "#or \n",
    "print(lst[-1])\n",
    "#or Printing it in reverse \n",
    "print(lst[::-1])\n",
    "\n",
    "s = \"python rocks\"\n",
    "print(s[2] + s[-4])\n",
    "\n",
    "# Predict the output  \n",
    "L = [0.34, '6', 'SI106', 'Python', -2]\n",
    "print(len(L[1:-1]))"
   ]
  },
  {
   "cell_type": "markdown",
   "metadata": {},
   "source": [
    "## The Slice Operator\n",
    "#### [starting_index:ending_index]\n"
   ]
  },
  {
   "cell_type": "code",
   "execution_count": 16,
   "metadata": {},
   "outputs": [
    {
     "name": "stdout",
     "output_type": "stream",
     "text": [
      "ban\n",
      "ana\n",
      "banana\n"
     ]
    }
   ],
   "source": [
    "fruit = \"banana\"\n",
    "print(fruit[:3])\n",
    "print(fruit[3:])\n",
    "print(fruit[:])"
   ]
  },
  {
   "cell_type": "code",
   "execution_count": null,
   "metadata": {},
   "outputs": [],
   "source": []
  }
 ],
 "metadata": {
  "kernelspec": {
   "display_name": "Python 3",
   "language": "python",
   "name": "python3"
  },
  "language_info": {
   "codemirror_mode": {
    "name": "ipython",
    "version": 3
   },
   "file_extension": ".py",
   "mimetype": "text/x-python",
   "name": "python",
   "nbconvert_exporter": "python",
   "pygments_lexer": "ipython3",
   "version": "3.7.4"
  }
 },
 "nbformat": 4,
 "nbformat_minor": 2
}
